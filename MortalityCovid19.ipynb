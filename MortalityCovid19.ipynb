{
 "cells": [
  {
   "cell_type": "markdown",
   "metadata": {},
   "source": [
    "# Modelo analítico con Deep Learning para la predicción de mortalidad por COVID-19"
   ]
  },
  {
   "cell_type": "markdown",
   "metadata": {},
   "source": [
    "## 1. Limpieza y preparación de los datos"
   ]
  },
  {
   "cell_type": "markdown",
   "metadata": {},
   "source": [
    "**1.1 Carga librerias**"
   ]
  },
  {
   "cell_type": "code",
   "execution_count": 1,
   "metadata": {},
   "outputs": [
    {
     "name": "stderr",
     "output_type": "stream",
     "text": [
      "Using TensorFlow backend.\n"
     ]
    }
   ],
   "source": [
    "#importa librerias\n",
    "import numpy as np\n",
    "import pandas as pd\n",
    "import matplotlib.pyplot as plt\n",
    "import tensorflow as tf\n",
    "import keras\n",
    "from keras.models import Sequential\n",
    "from keras.layers import Dense, Dropout\n",
    "from keras.callbacks import EarlyStopping\n",
    "from sklearn.model_selection import train_test_split\n",
    "from sklearn.metrics import confusion_matrix, roc_auc_score, roc_curve\n",
    "from sklearn.ensemble import RandomForestClassifier\n",
    "from time import time\n",
    "import itertools "
   ]
  },
  {
   "cell_type": "markdown",
   "metadata": {},
   "source": [
    "**1.2 Carga tabla de Diagnosticos**"
   ]
  },
  {
   "cell_type": "code",
   "execution_count": 2,
   "metadata": {},
   "outputs": [
    {
     "data": {
      "text/html": [
       "<div>\n",
       "<style scoped>\n",
       "    .dataframe tbody tr th:only-of-type {\n",
       "        vertical-align: middle;\n",
       "    }\n",
       "\n",
       "    .dataframe tbody tr th {\n",
       "        vertical-align: top;\n",
       "    }\n",
       "\n",
       "    .dataframe thead th {\n",
       "        text-align: right;\n",
       "    }\n",
       "</style>\n",
       "<table border=\"1\" class=\"dataframe\">\n",
       "  <thead>\n",
       "    <tr style=\"text-align: right;\">\n",
       "      <th></th>\n",
       "      <th>PersonaID</th>\n",
       "      <th>CodigoDiagnostico</th>\n",
       "      <th>NumeroAtenciones</th>\n",
       "    </tr>\n",
       "  </thead>\n",
       "  <tbody>\n",
       "    <tr>\n",
       "      <th>0</th>\n",
       "      <td>25196249</td>\n",
       "      <td>B349</td>\n",
       "      <td>1</td>\n",
       "    </tr>\n",
       "    <tr>\n",
       "      <th>1</th>\n",
       "      <td>12725338</td>\n",
       "      <td>I10X</td>\n",
       "      <td>6</td>\n",
       "    </tr>\n",
       "    <tr>\n",
       "      <th>2</th>\n",
       "      <td>27448386</td>\n",
       "      <td>F200</td>\n",
       "      <td>23</td>\n",
       "    </tr>\n",
       "    <tr>\n",
       "      <th>3</th>\n",
       "      <td>307340</td>\n",
       "      <td>K050</td>\n",
       "      <td>1</td>\n",
       "    </tr>\n",
       "    <tr>\n",
       "      <th>4</th>\n",
       "      <td>42146268</td>\n",
       "      <td>K051</td>\n",
       "      <td>6</td>\n",
       "    </tr>\n",
       "  </tbody>\n",
       "</table>\n",
       "</div>"
      ],
      "text/plain": [
       "   PersonaID CodigoDiagnostico  NumeroAtenciones\n",
       "0   25196249              B349                 1\n",
       "1   12725338              I10X                 6\n",
       "2   27448386              F200                23\n",
       "3     307340              K050                 1\n",
       "4   42146268              K051                 6"
      ]
     },
     "execution_count": 2,
     "metadata": {},
     "output_type": "execute_result"
    }
   ],
   "source": [
    "#Carga datos de diagnosticos a dataframe\n",
    "dfDiagnosticos = pd.read_csv(\"Diagnosticos4.csv\",sep=\";\")\n",
    "dfDiagnosticos.head()"
   ]
  },
  {
   "cell_type": "markdown",
   "metadata": {},
   "source": [
    "**1.3 Realiza pivot por columnas**"
   ]
  },
  {
   "cell_type": "code",
   "execution_count": 3,
   "metadata": {},
   "outputs": [],
   "source": [
    "#Realiza pivot de columnas\n",
    "dfDiagnosticos = dfDiagnosticos.pivot(index='PersonaID', columns='CodigoDiagnostico', values='NumeroAtenciones')"
   ]
  },
  {
   "cell_type": "code",
   "execution_count": 4,
   "metadata": {},
   "outputs": [],
   "source": [
    "#Reemplaza NA con 0\n",
    "dfDiagnosticos = dfDiagnosticos.fillna(0)"
   ]
  },
  {
   "cell_type": "code",
   "execution_count": 5,
   "metadata": {},
   "outputs": [
    {
     "data": {
      "text/html": [
       "<div>\n",
       "<style scoped>\n",
       "    .dataframe tbody tr th:only-of-type {\n",
       "        vertical-align: middle;\n",
       "    }\n",
       "\n",
       "    .dataframe tbody tr th {\n",
       "        vertical-align: top;\n",
       "    }\n",
       "\n",
       "    .dataframe thead th {\n",
       "        text-align: right;\n",
       "    }\n",
       "</style>\n",
       "<table border=\"1\" class=\"dataframe\">\n",
       "  <thead>\n",
       "    <tr style=\"text-align: right;\">\n",
       "      <th>CodigoDiagnostico</th>\n",
       "      <th>A000</th>\n",
       "      <th>A001</th>\n",
       "      <th>A009</th>\n",
       "      <th>A010</th>\n",
       "      <th>A011</th>\n",
       "      <th>A012</th>\n",
       "      <th>A013</th>\n",
       "      <th>A014</th>\n",
       "      <th>A020</th>\n",
       "      <th>A021</th>\n",
       "      <th>...</th>\n",
       "      <th>Y905</th>\n",
       "      <th>Y909</th>\n",
       "      <th>Y910</th>\n",
       "      <th>Y911</th>\n",
       "      <th>Y912</th>\n",
       "      <th>Y913</th>\n",
       "      <th>Y919</th>\n",
       "      <th>Y95X</th>\n",
       "      <th>Y96X</th>\n",
       "      <th>Y98X</th>\n",
       "    </tr>\n",
       "    <tr>\n",
       "      <th>PersonaID</th>\n",
       "      <th></th>\n",
       "      <th></th>\n",
       "      <th></th>\n",
       "      <th></th>\n",
       "      <th></th>\n",
       "      <th></th>\n",
       "      <th></th>\n",
       "      <th></th>\n",
       "      <th></th>\n",
       "      <th></th>\n",
       "      <th></th>\n",
       "      <th></th>\n",
       "      <th></th>\n",
       "      <th></th>\n",
       "      <th></th>\n",
       "      <th></th>\n",
       "      <th></th>\n",
       "      <th></th>\n",
       "      <th></th>\n",
       "      <th></th>\n",
       "      <th></th>\n",
       "    </tr>\n",
       "  </thead>\n",
       "  <tbody>\n",
       "    <tr>\n",
       "      <th>1241</th>\n",
       "      <td>0.0</td>\n",
       "      <td>0.0</td>\n",
       "      <td>0.0</td>\n",
       "      <td>0.0</td>\n",
       "      <td>0.0</td>\n",
       "      <td>0.0</td>\n",
       "      <td>0.0</td>\n",
       "      <td>0.0</td>\n",
       "      <td>0.0</td>\n",
       "      <td>0.0</td>\n",
       "      <td>...</td>\n",
       "      <td>0.0</td>\n",
       "      <td>0.0</td>\n",
       "      <td>0.0</td>\n",
       "      <td>0.0</td>\n",
       "      <td>0.0</td>\n",
       "      <td>0.0</td>\n",
       "      <td>0.0</td>\n",
       "      <td>0.0</td>\n",
       "      <td>0.0</td>\n",
       "      <td>0.0</td>\n",
       "    </tr>\n",
       "    <tr>\n",
       "      <th>1675</th>\n",
       "      <td>0.0</td>\n",
       "      <td>0.0</td>\n",
       "      <td>0.0</td>\n",
       "      <td>0.0</td>\n",
       "      <td>0.0</td>\n",
       "      <td>0.0</td>\n",
       "      <td>0.0</td>\n",
       "      <td>0.0</td>\n",
       "      <td>0.0</td>\n",
       "      <td>0.0</td>\n",
       "      <td>...</td>\n",
       "      <td>0.0</td>\n",
       "      <td>0.0</td>\n",
       "      <td>0.0</td>\n",
       "      <td>0.0</td>\n",
       "      <td>0.0</td>\n",
       "      <td>0.0</td>\n",
       "      <td>0.0</td>\n",
       "      <td>0.0</td>\n",
       "      <td>0.0</td>\n",
       "      <td>0.0</td>\n",
       "    </tr>\n",
       "    <tr>\n",
       "      <th>2332</th>\n",
       "      <td>0.0</td>\n",
       "      <td>0.0</td>\n",
       "      <td>0.0</td>\n",
       "      <td>0.0</td>\n",
       "      <td>0.0</td>\n",
       "      <td>0.0</td>\n",
       "      <td>0.0</td>\n",
       "      <td>0.0</td>\n",
       "      <td>0.0</td>\n",
       "      <td>0.0</td>\n",
       "      <td>...</td>\n",
       "      <td>0.0</td>\n",
       "      <td>0.0</td>\n",
       "      <td>0.0</td>\n",
       "      <td>0.0</td>\n",
       "      <td>0.0</td>\n",
       "      <td>0.0</td>\n",
       "      <td>0.0</td>\n",
       "      <td>0.0</td>\n",
       "      <td>0.0</td>\n",
       "      <td>0.0</td>\n",
       "    </tr>\n",
       "    <tr>\n",
       "      <th>2657</th>\n",
       "      <td>0.0</td>\n",
       "      <td>0.0</td>\n",
       "      <td>0.0</td>\n",
       "      <td>0.0</td>\n",
       "      <td>0.0</td>\n",
       "      <td>0.0</td>\n",
       "      <td>0.0</td>\n",
       "      <td>0.0</td>\n",
       "      <td>0.0</td>\n",
       "      <td>0.0</td>\n",
       "      <td>...</td>\n",
       "      <td>0.0</td>\n",
       "      <td>0.0</td>\n",
       "      <td>0.0</td>\n",
       "      <td>0.0</td>\n",
       "      <td>0.0</td>\n",
       "      <td>0.0</td>\n",
       "      <td>0.0</td>\n",
       "      <td>0.0</td>\n",
       "      <td>0.0</td>\n",
       "      <td>0.0</td>\n",
       "    </tr>\n",
       "    <tr>\n",
       "      <th>6647</th>\n",
       "      <td>0.0</td>\n",
       "      <td>0.0</td>\n",
       "      <td>0.0</td>\n",
       "      <td>0.0</td>\n",
       "      <td>0.0</td>\n",
       "      <td>0.0</td>\n",
       "      <td>0.0</td>\n",
       "      <td>0.0</td>\n",
       "      <td>0.0</td>\n",
       "      <td>0.0</td>\n",
       "      <td>...</td>\n",
       "      <td>0.0</td>\n",
       "      <td>0.0</td>\n",
       "      <td>0.0</td>\n",
       "      <td>0.0</td>\n",
       "      <td>0.0</td>\n",
       "      <td>0.0</td>\n",
       "      <td>0.0</td>\n",
       "      <td>0.0</td>\n",
       "      <td>0.0</td>\n",
       "      <td>0.0</td>\n",
       "    </tr>\n",
       "  </tbody>\n",
       "</table>\n",
       "<p>5 rows × 8112 columns</p>\n",
       "</div>"
      ],
      "text/plain": [
       "CodigoDiagnostico  A000  A001  A009  A010  A011  A012  A013  A014  A020  A021  \\\n",
       "PersonaID                                                                       \n",
       "1241                0.0   0.0   0.0   0.0   0.0   0.0   0.0   0.0   0.0   0.0   \n",
       "1675                0.0   0.0   0.0   0.0   0.0   0.0   0.0   0.0   0.0   0.0   \n",
       "2332                0.0   0.0   0.0   0.0   0.0   0.0   0.0   0.0   0.0   0.0   \n",
       "2657                0.0   0.0   0.0   0.0   0.0   0.0   0.0   0.0   0.0   0.0   \n",
       "6647                0.0   0.0   0.0   0.0   0.0   0.0   0.0   0.0   0.0   0.0   \n",
       "\n",
       "CodigoDiagnostico  ...   Y905  Y909  Y910  Y911  Y912  Y913  Y919  Y95X  Y96X  \\\n",
       "PersonaID          ...                                                          \n",
       "1241               ...    0.0   0.0   0.0   0.0   0.0   0.0   0.0   0.0   0.0   \n",
       "1675               ...    0.0   0.0   0.0   0.0   0.0   0.0   0.0   0.0   0.0   \n",
       "2332               ...    0.0   0.0   0.0   0.0   0.0   0.0   0.0   0.0   0.0   \n",
       "2657               ...    0.0   0.0   0.0   0.0   0.0   0.0   0.0   0.0   0.0   \n",
       "6647               ...    0.0   0.0   0.0   0.0   0.0   0.0   0.0   0.0   0.0   \n",
       "\n",
       "CodigoDiagnostico  Y98X  \n",
       "PersonaID                \n",
       "1241                0.0  \n",
       "1675                0.0  \n",
       "2332                0.0  \n",
       "2657                0.0  \n",
       "6647                0.0  \n",
       "\n",
       "[5 rows x 8112 columns]"
      ]
     },
     "execution_count": 5,
     "metadata": {},
     "output_type": "execute_result"
    }
   ],
   "source": [
    "#Muestra datos\n",
    "dfDiagnosticos.head()"
   ]
  },
  {
   "cell_type": "code",
   "execution_count": 6,
   "metadata": {},
   "outputs": [
    {
     "data": {
      "text/plain": [
       "(76572, 8112)"
      ]
     },
     "execution_count": 6,
     "metadata": {},
     "output_type": "execute_result"
    }
   ],
   "source": [
    "dfDiagnosticos.shape"
   ]
  },
  {
   "cell_type": "markdown",
   "metadata": {},
   "source": [
    "**1.4 Carga archivo de personas**"
   ]
  },
  {
   "cell_type": "code",
   "execution_count": 7,
   "metadata": {},
   "outputs": [
    {
     "data": {
      "text/html": [
       "<div>\n",
       "<style scoped>\n",
       "    .dataframe tbody tr th:only-of-type {\n",
       "        vertical-align: middle;\n",
       "    }\n",
       "\n",
       "    .dataframe tbody tr th {\n",
       "        vertical-align: top;\n",
       "    }\n",
       "\n",
       "    .dataframe thead th {\n",
       "        text-align: right;\n",
       "    }\n",
       "</style>\n",
       "<table border=\"1\" class=\"dataframe\">\n",
       "  <thead>\n",
       "    <tr style=\"text-align: right;\">\n",
       "      <th></th>\n",
       "      <th>PersonaID</th>\n",
       "      <th>Sexo</th>\n",
       "      <th>Edad</th>\n",
       "      <th>Departamento</th>\n",
       "      <th>Fallecido</th>\n",
       "    </tr>\n",
       "  </thead>\n",
       "  <tbody>\n",
       "    <tr>\n",
       "      <th>0</th>\n",
       "      <td>103519292</td>\n",
       "      <td>M</td>\n",
       "      <td>27</td>\n",
       "      <td>41</td>\n",
       "      <td>0</td>\n",
       "    </tr>\n",
       "    <tr>\n",
       "      <th>1</th>\n",
       "      <td>27002945</td>\n",
       "      <td>M</td>\n",
       "      <td>58</td>\n",
       "      <td>41</td>\n",
       "      <td>0</td>\n",
       "    </tr>\n",
       "    <tr>\n",
       "      <th>2</th>\n",
       "      <td>122921680</td>\n",
       "      <td>M</td>\n",
       "      <td>25</td>\n",
       "      <td>41</td>\n",
       "      <td>0</td>\n",
       "    </tr>\n",
       "    <tr>\n",
       "      <th>3</th>\n",
       "      <td>46072617</td>\n",
       "      <td>M</td>\n",
       "      <td>53</td>\n",
       "      <td>41</td>\n",
       "      <td>0</td>\n",
       "    </tr>\n",
       "    <tr>\n",
       "      <th>4</th>\n",
       "      <td>32088936</td>\n",
       "      <td>F</td>\n",
       "      <td>52</td>\n",
       "      <td>05</td>\n",
       "      <td>0</td>\n",
       "    </tr>\n",
       "  </tbody>\n",
       "</table>\n",
       "</div>"
      ],
      "text/plain": [
       "   PersonaID Sexo  Edad Departamento  Fallecido\n",
       "0  103519292    M    27           41          0\n",
       "1   27002945    M    58           41          0\n",
       "2  122921680    M    25           41          0\n",
       "3   46072617    M    53           41          0\n",
       "4   32088936    F    52           05          0"
      ]
     },
     "execution_count": 7,
     "metadata": {},
     "output_type": "execute_result"
    }
   ],
   "source": [
    "#Carga datos de personas a dataframe\n",
    "dfPersonas = pd.read_csv(\"Personas4.csv\",sep=\";\")\n",
    "dfPersonas.head()"
   ]
  },
  {
   "cell_type": "code",
   "execution_count": 8,
   "metadata": {},
   "outputs": [
    {
     "data": {
      "text/plain": [
       "(86000, 5)"
      ]
     },
     "execution_count": 8,
     "metadata": {},
     "output_type": "execute_result"
    }
   ],
   "source": [
    "dfPersonas.shape"
   ]
  },
  {
   "cell_type": "markdown",
   "metadata": {},
   "source": [
    "**1.5 Transforma variables categóricas**"
   ]
  },
  {
   "cell_type": "code",
   "execution_count": 9,
   "metadata": {},
   "outputs": [
    {
     "data": {
      "text/html": [
       "<div>\n",
       "<style scoped>\n",
       "    .dataframe tbody tr th:only-of-type {\n",
       "        vertical-align: middle;\n",
       "    }\n",
       "\n",
       "    .dataframe tbody tr th {\n",
       "        vertical-align: top;\n",
       "    }\n",
       "\n",
       "    .dataframe thead th {\n",
       "        text-align: right;\n",
       "    }\n",
       "</style>\n",
       "<table border=\"1\" class=\"dataframe\">\n",
       "  <thead>\n",
       "    <tr style=\"text-align: right;\">\n",
       "      <th></th>\n",
       "      <th>PersonaID</th>\n",
       "      <th>Edad</th>\n",
       "      <th>Fallecido</th>\n",
       "      <th>Sexo_F</th>\n",
       "      <th>Sexo_M</th>\n",
       "      <th>Departamento_05</th>\n",
       "      <th>Departamento_06</th>\n",
       "      <th>Departamento_07</th>\n",
       "      <th>Departamento_08</th>\n",
       "      <th>Departamento_09</th>\n",
       "      <th>...</th>\n",
       "      <th>Departamento_85</th>\n",
       "      <th>Departamento_86</th>\n",
       "      <th>Departamento_87</th>\n",
       "      <th>Departamento_88</th>\n",
       "      <th>Departamento_91</th>\n",
       "      <th>Departamento_94</th>\n",
       "      <th>Departamento_95</th>\n",
       "      <th>Departamento_97</th>\n",
       "      <th>Departamento_99</th>\n",
       "      <th>Departamento_NR</th>\n",
       "    </tr>\n",
       "  </thead>\n",
       "  <tbody>\n",
       "    <tr>\n",
       "      <th>0</th>\n",
       "      <td>103519292</td>\n",
       "      <td>27</td>\n",
       "      <td>0</td>\n",
       "      <td>0</td>\n",
       "      <td>1</td>\n",
       "      <td>0</td>\n",
       "      <td>0</td>\n",
       "      <td>0</td>\n",
       "      <td>0</td>\n",
       "      <td>0</td>\n",
       "      <td>...</td>\n",
       "      <td>0</td>\n",
       "      <td>0</td>\n",
       "      <td>0</td>\n",
       "      <td>0</td>\n",
       "      <td>0</td>\n",
       "      <td>0</td>\n",
       "      <td>0</td>\n",
       "      <td>0</td>\n",
       "      <td>0</td>\n",
       "      <td>0</td>\n",
       "    </tr>\n",
       "    <tr>\n",
       "      <th>1</th>\n",
       "      <td>27002945</td>\n",
       "      <td>58</td>\n",
       "      <td>0</td>\n",
       "      <td>0</td>\n",
       "      <td>1</td>\n",
       "      <td>0</td>\n",
       "      <td>0</td>\n",
       "      <td>0</td>\n",
       "      <td>0</td>\n",
       "      <td>0</td>\n",
       "      <td>...</td>\n",
       "      <td>0</td>\n",
       "      <td>0</td>\n",
       "      <td>0</td>\n",
       "      <td>0</td>\n",
       "      <td>0</td>\n",
       "      <td>0</td>\n",
       "      <td>0</td>\n",
       "      <td>0</td>\n",
       "      <td>0</td>\n",
       "      <td>0</td>\n",
       "    </tr>\n",
       "    <tr>\n",
       "      <th>2</th>\n",
       "      <td>122921680</td>\n",
       "      <td>25</td>\n",
       "      <td>0</td>\n",
       "      <td>0</td>\n",
       "      <td>1</td>\n",
       "      <td>0</td>\n",
       "      <td>0</td>\n",
       "      <td>0</td>\n",
       "      <td>0</td>\n",
       "      <td>0</td>\n",
       "      <td>...</td>\n",
       "      <td>0</td>\n",
       "      <td>0</td>\n",
       "      <td>0</td>\n",
       "      <td>0</td>\n",
       "      <td>0</td>\n",
       "      <td>0</td>\n",
       "      <td>0</td>\n",
       "      <td>0</td>\n",
       "      <td>0</td>\n",
       "      <td>0</td>\n",
       "    </tr>\n",
       "    <tr>\n",
       "      <th>3</th>\n",
       "      <td>46072617</td>\n",
       "      <td>53</td>\n",
       "      <td>0</td>\n",
       "      <td>0</td>\n",
       "      <td>1</td>\n",
       "      <td>0</td>\n",
       "      <td>0</td>\n",
       "      <td>0</td>\n",
       "      <td>0</td>\n",
       "      <td>0</td>\n",
       "      <td>...</td>\n",
       "      <td>0</td>\n",
       "      <td>0</td>\n",
       "      <td>0</td>\n",
       "      <td>0</td>\n",
       "      <td>0</td>\n",
       "      <td>0</td>\n",
       "      <td>0</td>\n",
       "      <td>0</td>\n",
       "      <td>0</td>\n",
       "      <td>0</td>\n",
       "    </tr>\n",
       "    <tr>\n",
       "      <th>4</th>\n",
       "      <td>32088936</td>\n",
       "      <td>52</td>\n",
       "      <td>0</td>\n",
       "      <td>1</td>\n",
       "      <td>0</td>\n",
       "      <td>1</td>\n",
       "      <td>0</td>\n",
       "      <td>0</td>\n",
       "      <td>0</td>\n",
       "      <td>0</td>\n",
       "      <td>...</td>\n",
       "      <td>0</td>\n",
       "      <td>0</td>\n",
       "      <td>0</td>\n",
       "      <td>0</td>\n",
       "      <td>0</td>\n",
       "      <td>0</td>\n",
       "      <td>0</td>\n",
       "      <td>0</td>\n",
       "      <td>0</td>\n",
       "      <td>0</td>\n",
       "    </tr>\n",
       "  </tbody>\n",
       "</table>\n",
       "<p>5 rows × 57 columns</p>\n",
       "</div>"
      ],
      "text/plain": [
       "   PersonaID  Edad  Fallecido  Sexo_F  Sexo_M  Departamento_05  \\\n",
       "0  103519292    27          0       0       1                0   \n",
       "1   27002945    58          0       0       1                0   \n",
       "2  122921680    25          0       0       1                0   \n",
       "3   46072617    53          0       0       1                0   \n",
       "4   32088936    52          0       1       0                1   \n",
       "\n",
       "   Departamento_06  Departamento_07  Departamento_08  Departamento_09  \\\n",
       "0                0                0                0                0   \n",
       "1                0                0                0                0   \n",
       "2                0                0                0                0   \n",
       "3                0                0                0                0   \n",
       "4                0                0                0                0   \n",
       "\n",
       "        ...         Departamento_85  Departamento_86  Departamento_87  \\\n",
       "0       ...                       0                0                0   \n",
       "1       ...                       0                0                0   \n",
       "2       ...                       0                0                0   \n",
       "3       ...                       0                0                0   \n",
       "4       ...                       0                0                0   \n",
       "\n",
       "   Departamento_88  Departamento_91  Departamento_94  Departamento_95  \\\n",
       "0                0                0                0                0   \n",
       "1                0                0                0                0   \n",
       "2                0                0                0                0   \n",
       "3                0                0                0                0   \n",
       "4                0                0                0                0   \n",
       "\n",
       "   Departamento_97  Departamento_99  Departamento_NR  \n",
       "0                0                0                0  \n",
       "1                0                0                0  \n",
       "2                0                0                0  \n",
       "3                0                0                0  \n",
       "4                0                0                0  \n",
       "\n",
       "[5 rows x 57 columns]"
      ]
     },
     "execution_count": 9,
     "metadata": {},
     "output_type": "execute_result"
    }
   ],
   "source": [
    "#Transforma variables categóricas\n",
    "dfPersonas = pd.get_dummies(dfPersonas, columns=['Sexo'], prefix = ['Sexo'])\n",
    "dfPersonas = pd.get_dummies(dfPersonas, columns=['Departamento'], prefix = ['Departamento'])\n",
    "dfPersonas.head()"
   ]
  },
  {
   "cell_type": "markdown",
   "metadata": {},
   "source": [
    "**1.6 Realiza join entre los dos archivos**"
   ]
  },
  {
   "cell_type": "code",
   "execution_count": 10,
   "metadata": {
    "scrolled": true
   },
   "outputs": [
    {
     "data": {
      "text/html": [
       "<div>\n",
       "<style scoped>\n",
       "    .dataframe tbody tr th:only-of-type {\n",
       "        vertical-align: middle;\n",
       "    }\n",
       "\n",
       "    .dataframe tbody tr th {\n",
       "        vertical-align: top;\n",
       "    }\n",
       "\n",
       "    .dataframe thead th {\n",
       "        text-align: right;\n",
       "    }\n",
       "</style>\n",
       "<table border=\"1\" class=\"dataframe\">\n",
       "  <thead>\n",
       "    <tr style=\"text-align: right;\">\n",
       "      <th></th>\n",
       "      <th>PersonaID</th>\n",
       "      <th>A000</th>\n",
       "      <th>A001</th>\n",
       "      <th>A009</th>\n",
       "      <th>A010</th>\n",
       "      <th>A011</th>\n",
       "      <th>A012</th>\n",
       "      <th>A013</th>\n",
       "      <th>A014</th>\n",
       "      <th>A020</th>\n",
       "      <th>...</th>\n",
       "      <th>Departamento_85</th>\n",
       "      <th>Departamento_86</th>\n",
       "      <th>Departamento_87</th>\n",
       "      <th>Departamento_88</th>\n",
       "      <th>Departamento_91</th>\n",
       "      <th>Departamento_94</th>\n",
       "      <th>Departamento_95</th>\n",
       "      <th>Departamento_97</th>\n",
       "      <th>Departamento_99</th>\n",
       "      <th>Departamento_NR</th>\n",
       "    </tr>\n",
       "  </thead>\n",
       "  <tbody>\n",
       "    <tr>\n",
       "      <th>0</th>\n",
       "      <td>1241</td>\n",
       "      <td>0.0</td>\n",
       "      <td>0.0</td>\n",
       "      <td>0.0</td>\n",
       "      <td>0.0</td>\n",
       "      <td>0.0</td>\n",
       "      <td>0.0</td>\n",
       "      <td>0.0</td>\n",
       "      <td>0.0</td>\n",
       "      <td>0.0</td>\n",
       "      <td>...</td>\n",
       "      <td>0</td>\n",
       "      <td>0</td>\n",
       "      <td>0</td>\n",
       "      <td>0</td>\n",
       "      <td>0</td>\n",
       "      <td>0</td>\n",
       "      <td>0</td>\n",
       "      <td>0</td>\n",
       "      <td>0</td>\n",
       "      <td>0</td>\n",
       "    </tr>\n",
       "    <tr>\n",
       "      <th>1</th>\n",
       "      <td>1675</td>\n",
       "      <td>0.0</td>\n",
       "      <td>0.0</td>\n",
       "      <td>0.0</td>\n",
       "      <td>0.0</td>\n",
       "      <td>0.0</td>\n",
       "      <td>0.0</td>\n",
       "      <td>0.0</td>\n",
       "      <td>0.0</td>\n",
       "      <td>0.0</td>\n",
       "      <td>...</td>\n",
       "      <td>0</td>\n",
       "      <td>0</td>\n",
       "      <td>0</td>\n",
       "      <td>0</td>\n",
       "      <td>0</td>\n",
       "      <td>0</td>\n",
       "      <td>0</td>\n",
       "      <td>0</td>\n",
       "      <td>0</td>\n",
       "      <td>0</td>\n",
       "    </tr>\n",
       "    <tr>\n",
       "      <th>2</th>\n",
       "      <td>2332</td>\n",
       "      <td>0.0</td>\n",
       "      <td>0.0</td>\n",
       "      <td>0.0</td>\n",
       "      <td>0.0</td>\n",
       "      <td>0.0</td>\n",
       "      <td>0.0</td>\n",
       "      <td>0.0</td>\n",
       "      <td>0.0</td>\n",
       "      <td>0.0</td>\n",
       "      <td>...</td>\n",
       "      <td>0</td>\n",
       "      <td>0</td>\n",
       "      <td>0</td>\n",
       "      <td>0</td>\n",
       "      <td>0</td>\n",
       "      <td>0</td>\n",
       "      <td>0</td>\n",
       "      <td>0</td>\n",
       "      <td>0</td>\n",
       "      <td>0</td>\n",
       "    </tr>\n",
       "    <tr>\n",
       "      <th>3</th>\n",
       "      <td>2657</td>\n",
       "      <td>0.0</td>\n",
       "      <td>0.0</td>\n",
       "      <td>0.0</td>\n",
       "      <td>0.0</td>\n",
       "      <td>0.0</td>\n",
       "      <td>0.0</td>\n",
       "      <td>0.0</td>\n",
       "      <td>0.0</td>\n",
       "      <td>0.0</td>\n",
       "      <td>...</td>\n",
       "      <td>0</td>\n",
       "      <td>0</td>\n",
       "      <td>0</td>\n",
       "      <td>0</td>\n",
       "      <td>0</td>\n",
       "      <td>0</td>\n",
       "      <td>0</td>\n",
       "      <td>0</td>\n",
       "      <td>0</td>\n",
       "      <td>0</td>\n",
       "    </tr>\n",
       "    <tr>\n",
       "      <th>4</th>\n",
       "      <td>6647</td>\n",
       "      <td>0.0</td>\n",
       "      <td>0.0</td>\n",
       "      <td>0.0</td>\n",
       "      <td>0.0</td>\n",
       "      <td>0.0</td>\n",
       "      <td>0.0</td>\n",
       "      <td>0.0</td>\n",
       "      <td>0.0</td>\n",
       "      <td>0.0</td>\n",
       "      <td>...</td>\n",
       "      <td>0</td>\n",
       "      <td>0</td>\n",
       "      <td>0</td>\n",
       "      <td>0</td>\n",
       "      <td>0</td>\n",
       "      <td>0</td>\n",
       "      <td>0</td>\n",
       "      <td>0</td>\n",
       "      <td>0</td>\n",
       "      <td>0</td>\n",
       "    </tr>\n",
       "  </tbody>\n",
       "</table>\n",
       "<p>5 rows × 8169 columns</p>\n",
       "</div>"
      ],
      "text/plain": [
       "   PersonaID  A000  A001  A009  A010  A011  A012  A013  A014  A020  \\\n",
       "0       1241   0.0   0.0   0.0   0.0   0.0   0.0   0.0   0.0   0.0   \n",
       "1       1675   0.0   0.0   0.0   0.0   0.0   0.0   0.0   0.0   0.0   \n",
       "2       2332   0.0   0.0   0.0   0.0   0.0   0.0   0.0   0.0   0.0   \n",
       "3       2657   0.0   0.0   0.0   0.0   0.0   0.0   0.0   0.0   0.0   \n",
       "4       6647   0.0   0.0   0.0   0.0   0.0   0.0   0.0   0.0   0.0   \n",
       "\n",
       "        ...         Departamento_85  Departamento_86  Departamento_87  \\\n",
       "0       ...                       0                0                0   \n",
       "1       ...                       0                0                0   \n",
       "2       ...                       0                0                0   \n",
       "3       ...                       0                0                0   \n",
       "4       ...                       0                0                0   \n",
       "\n",
       "   Departamento_88  Departamento_91  Departamento_94  Departamento_95  \\\n",
       "0                0                0                0                0   \n",
       "1                0                0                0                0   \n",
       "2                0                0                0                0   \n",
       "3                0                0                0                0   \n",
       "4                0                0                0                0   \n",
       "\n",
       "   Departamento_97  Departamento_99  Departamento_NR  \n",
       "0                0                0                0  \n",
       "1                0                0                0  \n",
       "2                0                0                0  \n",
       "3                0                0                0  \n",
       "4                0                0                0  \n",
       "\n",
       "[5 rows x 8169 columns]"
      ]
     },
     "execution_count": 10,
     "metadata": {},
     "output_type": "execute_result"
    }
   ],
   "source": [
    "#Realiza join entre los dos dataframes\n",
    "dfConsolidado = pd.merge(dfDiagnosticos, dfPersonas, on='PersonaID', how='right')\n",
    "dfConsolidado.head()"
   ]
  },
  {
   "cell_type": "code",
   "execution_count": 11,
   "metadata": {},
   "outputs": [
    {
     "data": {
      "text/plain": [
       "(86000, 8169)"
      ]
     },
     "execution_count": 11,
     "metadata": {},
     "output_type": "execute_result"
    }
   ],
   "source": [
    "dfConsolidado.shape"
   ]
  },
  {
   "cell_type": "markdown",
   "metadata": {},
   "source": [
    "**1.7 Genera archivo para modelo**"
   ]
  },
  {
   "cell_type": "code",
   "execution_count": 12,
   "metadata": {},
   "outputs": [],
   "source": [
    "#dfConsolidado.to_csv('DatosERC.csv',sep=',',index=False)"
   ]
  },
  {
   "cell_type": "markdown",
   "metadata": {},
   "source": [
    "## 2. Modelado de la red neuronal"
   ]
  },
  {
   "cell_type": "markdown",
   "metadata": {},
   "source": [
    "**2.1 Selección de features**"
   ]
  },
  {
   "cell_type": "code",
   "execution_count": 13,
   "metadata": {},
   "outputs": [
    {
     "data": {
      "text/html": [
       "<div>\n",
       "<style scoped>\n",
       "    .dataframe tbody tr th:only-of-type {\n",
       "        vertical-align: middle;\n",
       "    }\n",
       "\n",
       "    .dataframe tbody tr th {\n",
       "        vertical-align: top;\n",
       "    }\n",
       "\n",
       "    .dataframe thead th {\n",
       "        text-align: right;\n",
       "    }\n",
       "</style>\n",
       "<table border=\"1\" class=\"dataframe\">\n",
       "  <thead>\n",
       "    <tr style=\"text-align: right;\">\n",
       "      <th></th>\n",
       "      <th>A000</th>\n",
       "      <th>A001</th>\n",
       "      <th>A009</th>\n",
       "      <th>A010</th>\n",
       "      <th>A011</th>\n",
       "      <th>A012</th>\n",
       "      <th>A013</th>\n",
       "      <th>A014</th>\n",
       "      <th>A020</th>\n",
       "      <th>A021</th>\n",
       "      <th>...</th>\n",
       "      <th>Departamento_85</th>\n",
       "      <th>Departamento_86</th>\n",
       "      <th>Departamento_87</th>\n",
       "      <th>Departamento_88</th>\n",
       "      <th>Departamento_91</th>\n",
       "      <th>Departamento_94</th>\n",
       "      <th>Departamento_95</th>\n",
       "      <th>Departamento_97</th>\n",
       "      <th>Departamento_99</th>\n",
       "      <th>Departamento_NR</th>\n",
       "    </tr>\n",
       "  </thead>\n",
       "  <tbody>\n",
       "    <tr>\n",
       "      <th>0</th>\n",
       "      <td>0.0</td>\n",
       "      <td>0.0</td>\n",
       "      <td>0.0</td>\n",
       "      <td>0.0</td>\n",
       "      <td>0.0</td>\n",
       "      <td>0.0</td>\n",
       "      <td>0.0</td>\n",
       "      <td>0.0</td>\n",
       "      <td>0.0</td>\n",
       "      <td>0.0</td>\n",
       "      <td>...</td>\n",
       "      <td>0</td>\n",
       "      <td>0</td>\n",
       "      <td>0</td>\n",
       "      <td>0</td>\n",
       "      <td>0</td>\n",
       "      <td>0</td>\n",
       "      <td>0</td>\n",
       "      <td>0</td>\n",
       "      <td>0</td>\n",
       "      <td>0</td>\n",
       "    </tr>\n",
       "    <tr>\n",
       "      <th>1</th>\n",
       "      <td>0.0</td>\n",
       "      <td>0.0</td>\n",
       "      <td>0.0</td>\n",
       "      <td>0.0</td>\n",
       "      <td>0.0</td>\n",
       "      <td>0.0</td>\n",
       "      <td>0.0</td>\n",
       "      <td>0.0</td>\n",
       "      <td>0.0</td>\n",
       "      <td>0.0</td>\n",
       "      <td>...</td>\n",
       "      <td>0</td>\n",
       "      <td>0</td>\n",
       "      <td>0</td>\n",
       "      <td>0</td>\n",
       "      <td>0</td>\n",
       "      <td>0</td>\n",
       "      <td>0</td>\n",
       "      <td>0</td>\n",
       "      <td>0</td>\n",
       "      <td>0</td>\n",
       "    </tr>\n",
       "    <tr>\n",
       "      <th>2</th>\n",
       "      <td>0.0</td>\n",
       "      <td>0.0</td>\n",
       "      <td>0.0</td>\n",
       "      <td>0.0</td>\n",
       "      <td>0.0</td>\n",
       "      <td>0.0</td>\n",
       "      <td>0.0</td>\n",
       "      <td>0.0</td>\n",
       "      <td>0.0</td>\n",
       "      <td>0.0</td>\n",
       "      <td>...</td>\n",
       "      <td>0</td>\n",
       "      <td>0</td>\n",
       "      <td>0</td>\n",
       "      <td>0</td>\n",
       "      <td>0</td>\n",
       "      <td>0</td>\n",
       "      <td>0</td>\n",
       "      <td>0</td>\n",
       "      <td>0</td>\n",
       "      <td>0</td>\n",
       "    </tr>\n",
       "    <tr>\n",
       "      <th>3</th>\n",
       "      <td>0.0</td>\n",
       "      <td>0.0</td>\n",
       "      <td>0.0</td>\n",
       "      <td>0.0</td>\n",
       "      <td>0.0</td>\n",
       "      <td>0.0</td>\n",
       "      <td>0.0</td>\n",
       "      <td>0.0</td>\n",
       "      <td>0.0</td>\n",
       "      <td>0.0</td>\n",
       "      <td>...</td>\n",
       "      <td>0</td>\n",
       "      <td>0</td>\n",
       "      <td>0</td>\n",
       "      <td>0</td>\n",
       "      <td>0</td>\n",
       "      <td>0</td>\n",
       "      <td>0</td>\n",
       "      <td>0</td>\n",
       "      <td>0</td>\n",
       "      <td>0</td>\n",
       "    </tr>\n",
       "    <tr>\n",
       "      <th>4</th>\n",
       "      <td>0.0</td>\n",
       "      <td>0.0</td>\n",
       "      <td>0.0</td>\n",
       "      <td>0.0</td>\n",
       "      <td>0.0</td>\n",
       "      <td>0.0</td>\n",
       "      <td>0.0</td>\n",
       "      <td>0.0</td>\n",
       "      <td>0.0</td>\n",
       "      <td>0.0</td>\n",
       "      <td>...</td>\n",
       "      <td>0</td>\n",
       "      <td>0</td>\n",
       "      <td>0</td>\n",
       "      <td>0</td>\n",
       "      <td>0</td>\n",
       "      <td>0</td>\n",
       "      <td>0</td>\n",
       "      <td>0</td>\n",
       "      <td>0</td>\n",
       "      <td>0</td>\n",
       "    </tr>\n",
       "  </tbody>\n",
       "</table>\n",
       "<p>5 rows × 8168 columns</p>\n",
       "</div>"
      ],
      "text/plain": [
       "   A000  A001  A009  A010  A011  A012  A013  A014  A020  A021  \\\n",
       "0   0.0   0.0   0.0   0.0   0.0   0.0   0.0   0.0   0.0   0.0   \n",
       "1   0.0   0.0   0.0   0.0   0.0   0.0   0.0   0.0   0.0   0.0   \n",
       "2   0.0   0.0   0.0   0.0   0.0   0.0   0.0   0.0   0.0   0.0   \n",
       "3   0.0   0.0   0.0   0.0   0.0   0.0   0.0   0.0   0.0   0.0   \n",
       "4   0.0   0.0   0.0   0.0   0.0   0.0   0.0   0.0   0.0   0.0   \n",
       "\n",
       "        ...         Departamento_85  Departamento_86  Departamento_87  \\\n",
       "0       ...                       0                0                0   \n",
       "1       ...                       0                0                0   \n",
       "2       ...                       0                0                0   \n",
       "3       ...                       0                0                0   \n",
       "4       ...                       0                0                0   \n",
       "\n",
       "   Departamento_88  Departamento_91  Departamento_94  Departamento_95  \\\n",
       "0                0                0                0                0   \n",
       "1                0                0                0                0   \n",
       "2                0                0                0                0   \n",
       "3                0                0                0                0   \n",
       "4                0                0                0                0   \n",
       "\n",
       "   Departamento_97  Departamento_99  Departamento_NR  \n",
       "0                0                0                0  \n",
       "1                0                0                0  \n",
       "2                0                0                0  \n",
       "3                0                0                0  \n",
       "4                0                0                0  \n",
       "\n",
       "[5 rows x 8168 columns]"
      ]
     },
     "execution_count": 13,
     "metadata": {},
     "output_type": "execute_result"
    }
   ],
   "source": [
    "#Reemplaza NA con 0\n",
    "dfDatosERC = dfConsolidado.fillna(0)\n",
    "\n",
    "#Retira columna de ID\n",
    "dfDatosERC = dfDatosERC.drop(['PersonaID'], axis=1)\n",
    "\n",
    "#Muestra primeras 5 lineas\n",
    "dfDatosERC.head()"
   ]
  },
  {
   "cell_type": "markdown",
   "metadata": {},
   "source": [
    "**2.2 Separación de features (x) y etiquetas (y)**"
   ]
  },
  {
   "cell_type": "code",
   "execution_count": 14,
   "metadata": {},
   "outputs": [],
   "source": [
    "#Separa datos x(features) vs y(clase)\n",
    "y = dfDatosERC['Fallecido']\n",
    "x = dfDatosERC.drop(['Fallecido'], axis=1)"
   ]
  },
  {
   "cell_type": "code",
   "execution_count": 15,
   "metadata": {},
   "outputs": [],
   "source": [
    "#Normaliza datos en x\n",
    "x = (x - x.min()) / (x.max() - x.min())"
   ]
  },
  {
   "cell_type": "markdown",
   "metadata": {},
   "source": [
    "**2.3 Conjuntos de datos de entrenamiento y pruebas**"
   ]
  },
  {
   "cell_type": "code",
   "execution_count": 16,
   "metadata": {},
   "outputs": [
    {
     "data": {
      "text/html": [
       "<div>\n",
       "<style scoped>\n",
       "    .dataframe tbody tr th:only-of-type {\n",
       "        vertical-align: middle;\n",
       "    }\n",
       "\n",
       "    .dataframe tbody tr th {\n",
       "        vertical-align: top;\n",
       "    }\n",
       "\n",
       "    .dataframe thead th {\n",
       "        text-align: right;\n",
       "    }\n",
       "</style>\n",
       "<table border=\"1\" class=\"dataframe\">\n",
       "  <thead>\n",
       "    <tr style=\"text-align: right;\">\n",
       "      <th></th>\n",
       "      <th>A000</th>\n",
       "      <th>A001</th>\n",
       "      <th>A009</th>\n",
       "      <th>A010</th>\n",
       "      <th>A011</th>\n",
       "      <th>A012</th>\n",
       "      <th>A013</th>\n",
       "      <th>A014</th>\n",
       "      <th>A020</th>\n",
       "      <th>A021</th>\n",
       "      <th>...</th>\n",
       "      <th>Departamento_85</th>\n",
       "      <th>Departamento_86</th>\n",
       "      <th>Departamento_87</th>\n",
       "      <th>Departamento_88</th>\n",
       "      <th>Departamento_91</th>\n",
       "      <th>Departamento_94</th>\n",
       "      <th>Departamento_95</th>\n",
       "      <th>Departamento_97</th>\n",
       "      <th>Departamento_99</th>\n",
       "      <th>Departamento_NR</th>\n",
       "    </tr>\n",
       "  </thead>\n",
       "  <tbody>\n",
       "    <tr>\n",
       "      <th>80937</th>\n",
       "      <td>0.0</td>\n",
       "      <td>0.0</td>\n",
       "      <td>0.0</td>\n",
       "      <td>0.0</td>\n",
       "      <td>0.0</td>\n",
       "      <td>0.0</td>\n",
       "      <td>0.0</td>\n",
       "      <td>0.0</td>\n",
       "      <td>0.0</td>\n",
       "      <td>0.0</td>\n",
       "      <td>...</td>\n",
       "      <td>0.0</td>\n",
       "      <td>0.0</td>\n",
       "      <td>0.0</td>\n",
       "      <td>0.0</td>\n",
       "      <td>0.0</td>\n",
       "      <td>0.0</td>\n",
       "      <td>0.0</td>\n",
       "      <td>0.0</td>\n",
       "      <td>0.0</td>\n",
       "      <td>0.0</td>\n",
       "    </tr>\n",
       "    <tr>\n",
       "      <th>63440</th>\n",
       "      <td>0.0</td>\n",
       "      <td>0.0</td>\n",
       "      <td>0.0</td>\n",
       "      <td>0.0</td>\n",
       "      <td>0.0</td>\n",
       "      <td>0.0</td>\n",
       "      <td>0.0</td>\n",
       "      <td>0.0</td>\n",
       "      <td>0.0</td>\n",
       "      <td>0.0</td>\n",
       "      <td>...</td>\n",
       "      <td>0.0</td>\n",
       "      <td>1.0</td>\n",
       "      <td>0.0</td>\n",
       "      <td>0.0</td>\n",
       "      <td>0.0</td>\n",
       "      <td>0.0</td>\n",
       "      <td>0.0</td>\n",
       "      <td>0.0</td>\n",
       "      <td>0.0</td>\n",
       "      <td>0.0</td>\n",
       "    </tr>\n",
       "    <tr>\n",
       "      <th>40996</th>\n",
       "      <td>0.0</td>\n",
       "      <td>0.0</td>\n",
       "      <td>0.0</td>\n",
       "      <td>0.0</td>\n",
       "      <td>0.0</td>\n",
       "      <td>0.0</td>\n",
       "      <td>0.0</td>\n",
       "      <td>0.0</td>\n",
       "      <td>0.0</td>\n",
       "      <td>0.0</td>\n",
       "      <td>...</td>\n",
       "      <td>0.0</td>\n",
       "      <td>0.0</td>\n",
       "      <td>0.0</td>\n",
       "      <td>0.0</td>\n",
       "      <td>0.0</td>\n",
       "      <td>0.0</td>\n",
       "      <td>0.0</td>\n",
       "      <td>0.0</td>\n",
       "      <td>0.0</td>\n",
       "      <td>0.0</td>\n",
       "    </tr>\n",
       "    <tr>\n",
       "      <th>73563</th>\n",
       "      <td>0.0</td>\n",
       "      <td>0.0</td>\n",
       "      <td>0.0</td>\n",
       "      <td>0.0</td>\n",
       "      <td>0.0</td>\n",
       "      <td>0.0</td>\n",
       "      <td>0.0</td>\n",
       "      <td>0.0</td>\n",
       "      <td>0.0</td>\n",
       "      <td>0.0</td>\n",
       "      <td>...</td>\n",
       "      <td>0.0</td>\n",
       "      <td>0.0</td>\n",
       "      <td>0.0</td>\n",
       "      <td>0.0</td>\n",
       "      <td>0.0</td>\n",
       "      <td>0.0</td>\n",
       "      <td>0.0</td>\n",
       "      <td>0.0</td>\n",
       "      <td>0.0</td>\n",
       "      <td>0.0</td>\n",
       "    </tr>\n",
       "    <tr>\n",
       "      <th>61566</th>\n",
       "      <td>0.0</td>\n",
       "      <td>0.0</td>\n",
       "      <td>0.0</td>\n",
       "      <td>0.0</td>\n",
       "      <td>0.0</td>\n",
       "      <td>0.0</td>\n",
       "      <td>0.0</td>\n",
       "      <td>0.0</td>\n",
       "      <td>0.0</td>\n",
       "      <td>0.0</td>\n",
       "      <td>...</td>\n",
       "      <td>0.0</td>\n",
       "      <td>0.0</td>\n",
       "      <td>0.0</td>\n",
       "      <td>0.0</td>\n",
       "      <td>0.0</td>\n",
       "      <td>0.0</td>\n",
       "      <td>0.0</td>\n",
       "      <td>0.0</td>\n",
       "      <td>0.0</td>\n",
       "      <td>0.0</td>\n",
       "    </tr>\n",
       "  </tbody>\n",
       "</table>\n",
       "<p>5 rows × 8167 columns</p>\n",
       "</div>"
      ],
      "text/plain": [
       "       A000  A001  A009  A010  A011  A012  A013  A014  A020  A021  \\\n",
       "80937   0.0   0.0   0.0   0.0   0.0   0.0   0.0   0.0   0.0   0.0   \n",
       "63440   0.0   0.0   0.0   0.0   0.0   0.0   0.0   0.0   0.0   0.0   \n",
       "40996   0.0   0.0   0.0   0.0   0.0   0.0   0.0   0.0   0.0   0.0   \n",
       "73563   0.0   0.0   0.0   0.0   0.0   0.0   0.0   0.0   0.0   0.0   \n",
       "61566   0.0   0.0   0.0   0.0   0.0   0.0   0.0   0.0   0.0   0.0   \n",
       "\n",
       "            ...         Departamento_85  Departamento_86  Departamento_87  \\\n",
       "80937       ...                     0.0              0.0              0.0   \n",
       "63440       ...                     0.0              1.0              0.0   \n",
       "40996       ...                     0.0              0.0              0.0   \n",
       "73563       ...                     0.0              0.0              0.0   \n",
       "61566       ...                     0.0              0.0              0.0   \n",
       "\n",
       "       Departamento_88  Departamento_91  Departamento_94  Departamento_95  \\\n",
       "80937              0.0              0.0              0.0              0.0   \n",
       "63440              0.0              0.0              0.0              0.0   \n",
       "40996              0.0              0.0              0.0              0.0   \n",
       "73563              0.0              0.0              0.0              0.0   \n",
       "61566              0.0              0.0              0.0              0.0   \n",
       "\n",
       "       Departamento_97  Departamento_99  Departamento_NR  \n",
       "80937              0.0              0.0              0.0  \n",
       "63440              0.0              0.0              0.0  \n",
       "40996              0.0              0.0              0.0  \n",
       "73563              0.0              0.0              0.0  \n",
       "61566              0.0              0.0              0.0  \n",
       "\n",
       "[5 rows x 8167 columns]"
      ]
     },
     "execution_count": 16,
     "metadata": {},
     "output_type": "execute_result"
    }
   ],
   "source": [
    "#Separa datos de entrenamiento y pruebas\n",
    "entrenamientoX, pruebasX, entrenamientoY, pruebasY = train_test_split(\n",
    "    x,y, test_size= 0.30, random_state=2)\n",
    "entrenamientoX.head()"
   ]
  },
  {
   "cell_type": "code",
   "execution_count": 17,
   "metadata": {},
   "outputs": [],
   "source": [
    "#Gráfica del loss y el accuracy\n",
    "\n",
    "def plot_acc(history, title=\"Model Accuracy\"):\n",
    "    plt.plot(history.history['acc'])\n",
    "    plt.plot(history.history['val_acc'])\n",
    "    plt.title(title)\n",
    "    plt.ylabel('Accuracy')\n",
    "    plt.xlabel('Epoch')\n",
    "    plt.legend(['Train', 'Val'], loc='upper left')\n",
    "    plt.show()\n",
    "    \n",
    "def plot_loss(history, title=\"Model Loss\"):\n",
    "    plt.plot(history.history['loss'])\n",
    "    plt.plot(history.history['val_loss'])\n",
    "    plt.title(title)\n",
    "    plt.ylabel('Loss')\n",
    "    plt.xlabel('Epoch')\n",
    "    plt.legend(['Train', 'Val'], loc='upper right')\n",
    "    plt.show()\n",
    "\n",
    "def plot_compare_losses(history1, history2, name1=\"Red 1\",\n",
    "                        name2=\"Red 2\", title=\"Graph title\"):\n",
    "    plt.plot(history1.history['loss'], color=\"green\")\n",
    "    plt.plot(history1.history['val_loss'], 'r--', color=\"green\")\n",
    "    plt.plot(history2.history['loss'], color=\"blue\")\n",
    "    plt.plot(history2.history['val_loss'], 'r--', color=\"blue\")\n",
    "    plt.title(title)\n",
    "    plt.ylabel('Loss')\n",
    "    plt.xlabel('Epoch')\n",
    "    plt.legend(['Train ' + name1, 'Val ' + name1, \n",
    "                'Train ' + name2, 'Val ' + name2],\n",
    "               loc='upper right')\n",
    "    plt.show()\n",
    "    \n",
    "def plot_compare_accs(history1, history2, name1=\"Red 1\",\n",
    "                      name2=\"Red 2\", title=\"Graph title\"):\n",
    "    plt.plot(history1.history['acc'], color=\"green\")\n",
    "    plt.plot(history1.history['val_acc'], 'r--', color=\"green\")\n",
    "    plt.plot(history2.history['acc'], color=\"blue\")\n",
    "    plt.plot(history2.history['val_acc'], 'r--', color=\"blue\")\n",
    "    plt.title(title)\n",
    "    plt.ylabel('Accuracy')\n",
    "    plt.xlabel('Epoch')\n",
    "    plt.legend(['Train ' + name1, 'Val ' + name1, \n",
    "                'Train ' + name2, 'Val ' + name2], \n",
    "               loc='lower right')\n",
    "    plt.show()"
   ]
  },
  {
   "cell_type": "markdown",
   "metadata": {},
   "source": [
    "**2.11 Modelo final**"
   ]
  },
  {
   "cell_type": "code",
   "execution_count": 78,
   "metadata": {
    "scrolled": true
   },
   "outputs": [
    {
     "name": "stdout",
     "output_type": "stream",
     "text": [
      "Train on 48160 samples, validate on 12040 samples\n",
      "Epoch 1/5\n",
      "48160/48160 [==============================] - 32s 668us/step - loss: 0.5160 - acc: 0.7507 - val_loss: 0.3106 - val_acc: 0.8713\n",
      "Epoch 2/5\n",
      "48160/48160 [==============================] - 31s 634us/step - loss: 0.3095 - acc: 0.8783 - val_loss: 0.2956 - val_acc: 0.8762\n",
      "Epoch 3/5\n",
      "48160/48160 [==============================] - 31s 637us/step - loss: 0.2790 - acc: 0.8895 - val_loss: 0.2974 - val_acc: 0.8766\n",
      "Epoch 4/5\n",
      "48160/48160 [==============================] - 30s 630us/step - loss: 0.2627 - acc: 0.8978 - val_loss: 0.3097 - val_acc: 0.8728\n",
      "Epoch 5/5\n",
      "48160/48160 [==============================] - 30s 628us/step - loss: 0.2508 - acc: 0.9008 - val_loss: 0.3064 - val_acc: 0.8762\n",
      "El tiempo de ejecucion fue: 154.64389657974243 segundos\n"
     ]
    }
   ],
   "source": [
    "#Entrena modelo final\n",
    "tiempo_inicial = time() \n",
    "\n",
    "#Definición del modelo\n",
    "model_final = Sequential()\n",
    "model_final.add(Dense(units=500, activation='relu', input_dim=entrenamientoX.shape[1]))\n",
    "model_final.add(Dropout(0.5))\n",
    "model_final.add(Dense(units=100, activation='relu'))\n",
    "model_final.add(Dropout(0.5))\n",
    "model_final.add(Dense(units=50, activation='relu'))\n",
    "model_final.add(Dropout(0.5))\n",
    "model_final.add(Dense(units=1, activation='sigmoid'))\n",
    "\n",
    "#compilación del modelo\n",
    "model_final.compile(loss='binary_crossentropy',\n",
    "              optimizer='adam',\n",
    "              metrics=['accuracy'])\n",
    "\n",
    "#Agrega early stopping\n",
    "#es = EarlyStopping(monitor='val_loss', mode='min', verbose=1)\n",
    "\n",
    "#entrenamiento del modelo\n",
    "#history_final=model_final.fit(entrenamientoX, entrenamientoY, validation_split=0.2, epochs=5, batch_size=1000, callbacks=[es])\n",
    "history_final=model_final.fit(entrenamientoX, entrenamientoY, validation_split=0.2, epochs=5, batch_size=1000)\n",
    "\n",
    "tiempo_final = time() \n",
    "print ('El tiempo de ejecucion fue:', tiempo_final-tiempo_inicial, \"segundos\")"
   ]
  },
  {
   "cell_type": "code",
   "execution_count": 79,
   "metadata": {},
   "outputs": [
    {
     "name": "stdout",
     "output_type": "stream",
     "text": [
      "25800/25800 [==============================] - 9s 352us/step\n",
      "Valor de accuracy en conjunto de datos de test:  0.8807751937984496\n"
     ]
    }
   ],
   "source": [
    "#Realiza prediccion en conjunto pruebas\n",
    "score = model_final.evaluate(pruebasX, pruebasY)\n",
    "\n",
    "#Obtiene el accuracy del modelo final\n",
    "print(\"Valor de accuracy en conjunto de datos de test: \",score[1])"
   ]
  },
  {
   "cell_type": "code",
   "execution_count": 80,
   "metadata": {},
   "outputs": [
    {
     "data": {
      "image/png": "[encoded data removed]",
      "text/plain": [
       "<Figure size 432x288 with 1 Axes>"
      ]
     },
     "metadata": {},
     "output_type": "display_data"
    },
    {
     "data": {
      "image/png": "[encoded data removed]",
      "text/plain": [
       "<Figure size 432x288 with 1 Axes>"
      ]
     },
     "metadata": {},
     "output_type": "display_data"
    }
   ],
   "source": [
    "plot_loss(history_final, title=\"Loss de la red neuronal\")    \n",
    "plot_acc(history_final, title=\"Accuracy de la red neuronal\")"
   ]
  },
  {
   "cell_type": "code",
   "execution_count": 81,
   "metadata": {},
   "outputs": [],
   "source": [
    "#Guarda modelo final\n",
    "model_final.save('modelo_Red_Neuronal_COVID_RIPS4.h5')\n",
    "#model_final = keras.models.load_model('modelo_Red_Neuronal_ERC.h5')"
   ]
  },
  {
   "cell_type": "markdown",
   "metadata": {},
   "source": [
    "## 3. Evaluación del modelo"
   ]
  },
  {
   "cell_type": "markdown",
   "metadata": {},
   "source": [
    "**3.1 Matriz de confusión**"
   ]
  },
  {
   "cell_type": "code",
   "execution_count": 82,
   "metadata": {},
   "outputs": [
    {
     "data": {
      "text/plain": [
       "array([[1],\n",
       "       [0],\n",
       "       [1],\n",
       "       ...,\n",
       "       [0],\n",
       "       [1],\n",
       "       [0]])"
      ]
     },
     "execution_count": 82,
     "metadata": {},
     "output_type": "execute_result"
    }
   ],
   "source": [
    "#Obtiene valores predichos para el conjunto de pruebas\n",
    "scores = model_final.predict(pruebasX, verbose=0)\n",
    "prediccion = np.round(scores).astype(int)\n",
    "prediccion"
   ]
  },
  {
   "cell_type": "code",
   "execution_count": 83,
   "metadata": {},
   "outputs": [
    {
     "data": {
      "text/plain": [
       "array([[11301,  1399],\n",
       "       [ 1677, 11423]], dtype=int64)"
      ]
     },
     "execution_count": 83,
     "metadata": {},
     "output_type": "execute_result"
    }
   ],
   "source": [
    "#Genera matriz de confusión\n",
    "cf = confusion_matrix(prediccion, pruebasY)\n",
    "cf"
   ]
  },
  {
   "cell_type": "code",
   "execution_count": 84,
   "metadata": {},
   "outputs": [
    {
     "data": {
      "image/png": "[encoded data removed]",
      "text/plain": [
       "<Figure size 432x288 with 2 Axes>"
      ]
     },
     "metadata": {},
     "output_type": "display_data"
    }
   ],
   "source": [
    "#Grafica matriz de confusión\n",
    "plt.imshow(cf,cmap=plt.cm.Blues,interpolation='nearest')\n",
    "plt.colorbar()\n",
    "plt.title('Matriz de confusión')\n",
    "plt.xlabel('Actual')\n",
    "plt.ylabel('Predicción')\n",
    "tick_marks = np.arange(len(set(pruebasY))) # length of classes\n",
    "class_labels = ['0','1']\n",
    "tick_marks\n",
    "plt.xticks(tick_marks,class_labels)\n",
    "plt.yticks(tick_marks,class_labels)\n",
    "# plotting text value inside cells\n",
    "thresh = cf.max() / 2.\n",
    "for i,j in itertools.product(range(cf.shape[0]),range(cf.shape[1])):\n",
    "    plt.text(j,i,format(cf[i,j],'d'),horizontalalignment='center',color='white' if cf[i,j] >thresh else 'black')\n",
    "plt.show();"
   ]
  },
  {
   "cell_type": "markdown",
   "metadata": {},
   "source": [
    "**3.2 Precision, Recall y F1-score**"
   ]
  },
  {
   "cell_type": "code",
   "execution_count": 85,
   "metadata": {},
   "outputs": [
    {
     "name": "stdout",
     "output_type": "stream",
     "text": [
      "La metrica de sensibilidad para el modelo es de: 0.89\n",
      "La metrica de especificidad para el modelo es de: 0.87\n",
      "La metrica de precision para el modelo es de: 0.87\n",
      "La metrica de recall para el modelo es de: 0.89\n",
      "La metrica de f1-score para el modelo es de: 0.88\n"
     ]
    }
   ],
   "source": [
    "#Obtiene metricas\n",
    "tp=cf[1,1]\n",
    "tn=cf[0,0]\n",
    "fp=cf[1,0]\n",
    "fn=cf[0,1]\n",
    "print(\"La metrica de sensibilidad para el modelo es de:\",round(tp/(tp+fn),2))\n",
    "print(\"La metrica de especificidad para el modelo es de:\",round(tn/(tn+fp),2))\n",
    "pre=round(tp/(tp+fp),2)\n",
    "print(\"La metrica de precision para el modelo es de:\",pre)\n",
    "rec=round(tp/(tp+fn),2)\n",
    "print(\"La metrica de recall para el modelo es de:\",rec)\n",
    "print(\"La metrica de f1-score para el modelo es de:\",round( (2*pre*rec)/(pre+rec),2) )"
   ]
  },
  {
   "cell_type": "markdown",
   "metadata": {},
   "source": [
    "**3.3 Curva ROC/AUC**"
   ]
  },
  {
   "cell_type": "code",
   "execution_count": 86,
   "metadata": {},
   "outputs": [
    {
     "name": "stdout",
     "output_type": "stream",
     "text": [
      "El AUC es de: 0.9482215610839351\n"
     ]
    }
   ],
   "source": [
    "#Obtiene AUC\n",
    "auc=roc_auc_score(pruebasY, scores)\n",
    "print(\"El AUC es de:\",auc)"
   ]
  },
  {
   "cell_type": "code",
   "execution_count": 89,
   "metadata": {},
   "outputs": [
    {
     "data": {
      "image/png": "[encoded data removed]",
      "text/plain": [
       "<Figure size 432x288 with 1 Axes>"
      ]
     },
     "metadata": {},
     "output_type": "display_data"
    }
   ],
   "source": [
    "#Genera ROC\n",
    "fpr, tpr, thresholds = roc_curve(pruebasY, scores)\n",
    "\n",
    "plt.figure()\n",
    "lw = 2\n",
    "plt.plot(fpr, tpr, color='darkorange',\n",
    "         lw=lw, label='AUC = %0.2f' % auc)\n",
    "plt.plot([0, 1], [0, 1], color='navy', lw=lw, linestyle='--')\n",
    "plt.xlim([0.0, 1.0])\n",
    "plt.ylim([0.0, 1.05])\n",
    "plt.xlabel('Tasa de Falsos Positivos')\n",
    "plt.ylabel('Tasa de Verdaderos Positivos')\n",
    "plt.title('ROC/AUC')\n",
    "plt.legend(loc=\"lower right\")\n",
    "plt.show()"
   ]
  },
  {
   "cell_type": "markdown",
   "metadata": {},
   "source": [
    "## 4. Comparación con random forest"
   ]
  },
  {
   "cell_type": "markdown",
   "metadata": {},
   "source": [
    "**4.1 Entrenamiento con Random Forest**"
   ]
  },
  {
   "cell_type": "code",
   "execution_count": 59,
   "metadata": {},
   "outputs": [
    {
     "data": {
      "text/plain": [
       "RandomForestClassifier(bootstrap=True, class_weight=None, criterion='gini',\n",
       "            max_depth=None, max_features='auto', max_leaf_nodes=None,\n",
       "            min_impurity_decrease=0.0, min_impurity_split=None,\n",
       "            min_samples_leaf=1, min_samples_split=2,\n",
       "            min_weight_fraction_leaf=0.0, n_estimators=5, n_jobs=None,\n",
       "            oob_score=False, random_state=None, verbose=0,\n",
       "            warm_start=False)"
      ]
     },
     "execution_count": 59,
     "metadata": {},
     "output_type": "execute_result"
    }
   ],
   "source": [
    "#Realiza entrenamiento con Random Forest\n",
    "clfRF = RandomForestClassifier(n_estimators=5)\n",
    "clfRF.fit(entrenamientoX, entrenamientoY)"
   ]
  },
  {
   "cell_type": "code",
   "execution_count": 60,
   "metadata": {},
   "outputs": [
    {
     "name": "stdout",
     "output_type": "stream",
     "text": [
      "     variable  importancia\n",
      "8112     Edad     0.273151\n",
      "2744     I10X     0.094111\n",
      "1414     E109     0.027660\n",
      "4740     N40X     0.022811\n",
      "3210     J449     0.022095\n",
      "1585     E669     0.010785\n",
      "1424     E119     0.010263\n",
      "1581     E660     0.007944\n",
      "1454     E149     0.007802\n",
      "1413     E108     0.007176\n",
      "4668     N189     0.006762\n",
      "4733     N390     0.006752\n",
      "2451     H259     0.006509\n",
      "3305     K021     0.006255\n",
      "8114   Sexo_M     0.005461\n",
      "2895     I500     0.005459\n",
      "8113   Sexo_F     0.005277\n",
      "3208     J441     0.005016\n",
      "3333     K051     0.005007\n",
      "52       A09X     0.004746\n"
     ]
    }
   ],
   "source": [
    "#Muestra las features mas importantes\n",
    "importancia = pd.DataFrame(columns=('variable', 'importancia'))\n",
    "cont=0\n",
    "for i in pruebasX.columns:\n",
    "    importancia.loc[len(importancia)]=[i,clfRF.feature_importances_[cont]] \n",
    "    cont=cont+1\n",
    "importancia=importancia.sort_values(by=['importancia'], ascending=[False])\n",
    "print(importancia[:20])"
   ]
  },
  {
   "cell_type": "markdown",
   "metadata": {},
   "source": [
    "**4.2 Pruebas del modelo con Random Forest**"
   ]
  },
  {
   "cell_type": "code",
   "execution_count": 61,
   "metadata": {},
   "outputs": [
    {
     "data": {
      "text/plain": [
       "array([0, 0, 1, ..., 0, 1, 0])"
      ]
     },
     "execution_count": 61,
     "metadata": {},
     "output_type": "execute_result"
    }
   ],
   "source": [
    "#Realiza prediccion en conjunto pruebas con Random Forest\n",
    "scores=clfRF.predict(pruebasX)\n",
    "prediccionRF=np.round(scores).astype(int)\n",
    "prediccionRF"
   ]
  },
  {
   "cell_type": "markdown",
   "metadata": {},
   "source": [
    "**4.3 Evaluación de resultados con Random Forest**"
   ]
  },
  {
   "cell_type": "code",
   "execution_count": 62,
   "metadata": {},
   "outputs": [
    {
     "data": {
      "text/plain": [
       "array([[11185,  1690],\n",
       "       [ 1793, 11132]], dtype=int64)"
      ]
     },
     "execution_count": 62,
     "metadata": {},
     "output_type": "execute_result"
    }
   ],
   "source": [
    "#Genera matriz de confusión\n",
    "cf = confusion_matrix(prediccionRF, pruebasY)\n",
    "cf"
   ]
  },
  {
   "cell_type": "code",
   "execution_count": 63,
   "metadata": {},
   "outputs": [
    {
     "data": {
      "image/png": "[encoded data removed]",
      "text/plain": [
       "<Figure size 432x288 with 2 Axes>"
      ]
     },
     "metadata": {},
     "output_type": "display_data"
    }
   ],
   "source": [
    "#Grafica matriz de confusión\n",
    "plt.imshow(cf,cmap=plt.cm.Blues,interpolation='nearest')\n",
    "plt.colorbar()\n",
    "plt.title('Matriz de confusión')\n",
    "plt.xlabel('Actual')\n",
    "plt.ylabel('Predicción')\n",
    "tick_marks = np.arange(len(set(pruebasY))) # length of classes\n",
    "class_labels = ['0','1']\n",
    "tick_marks\n",
    "plt.xticks(tick_marks,class_labels)\n",
    "plt.yticks(tick_marks,class_labels)\n",
    "# plotting text value inside cells\n",
    "thresh = cf.max() / 2.\n",
    "for i,j in itertools.product(range(cf.shape[0]),range(cf.shape[1])):\n",
    "    plt.text(j,i,format(cf[i,j],'d'),horizontalalignment='center',color='white' if cf[i,j] >thresh else 'black')\n",
    "plt.show();"
   ]
  },
  {
   "cell_type": "code",
   "execution_count": 64,
   "metadata": {},
   "outputs": [
    {
     "name": "stdout",
     "output_type": "stream",
     "text": [
      "Valor de accuracy en conjunto de datos de test:  86.71\n"
     ]
    }
   ],
   "source": [
    "#Obtiene el accuracy del modelo final\n",
    "print(\"Valor de accuracy en conjunto de datos de test: \",round((cf[0,0]+cf[0,0])/sum(sum(cf))*100,2))"
   ]
  },
  {
   "cell_type": "code",
   "execution_count": 65,
   "metadata": {},
   "outputs": [
    {
     "name": "stdout",
     "output_type": "stream",
     "text": [
      "La metrica de sensibilidad para el modelo es de: 0.87\n",
      "La metrica de especificidad para el modelo es de: 0.86\n",
      "La metrica de precision para el modelo es de: 0.86\n",
      "La metrica de recall para el modelo es de: 0.87\n",
      "La metrica de f1-score para el modelo es de: 0.86\n",
      "El AUC es de: 0.8650192042355541\n"
     ]
    }
   ],
   "source": [
    "#Obtiene metricas\n",
    "tp=cf[1,1]\n",
    "tn=cf[0,0]\n",
    "fp=cf[1,0]\n",
    "fn=cf[0,1]\n",
    "print(\"La metrica de sensibilidad para el modelo es de:\",round(tp/(tp+fn),2))\n",
    "print(\"La metrica de especificidad para el modelo es de:\",round(tn/(tn+fp),2))\n",
    "pre=round(tp/(tp+fp),2)\n",
    "print(\"La metrica de precision para el modelo es de:\",pre)\n",
    "rec=round(tp/(tp+fn),2)\n",
    "print(\"La metrica de recall para el modelo es de:\",rec)\n",
    "print(\"La metrica de f1-score para el modelo es de:\",round( (2*pre*rec)/(pre+rec),2) )\n",
    "auc=roc_auc_score(pruebasY, scores)\n",
    "print(\"El AUC es de:\",auc)"
   ]
  }
 ],
 "metadata": {
  "kernelspec": {
   "display_name": "Python 3",
   "language": "python",
   "name": "python3"
  },
  "language_info": {
   "codemirror_mode": {
    "name": "ipython",
    "version": 3
   },
   "file_extension": ".py",
   "mimetype": "text/x-python",
   "name": "python",
   "nbconvert_exporter": "python",
   "pygments_lexer": "ipython3",
   "version": "3.6.7"
  }
 },
 "nbformat": 4,
 "nbformat_minor": 2
}
